{
 "cells": [
  {
   "cell_type": "markdown",
   "metadata": {},
   "source": [
    "# RTI International Analytics Exercise\n",
    "### Author: Sam Eure\n",
    "### Date: May 31, 2019"
   ]
  },
  {
   "cell_type": "code",
   "execution_count": 228,
   "metadata": {},
   "outputs": [],
   "source": [
    "import sqlite3\n",
    "conn = sqlite3.connect('exercise01.sqlite')\n",
    "cur = conn.cursor()"
   ]
  },
  {
   "cell_type": "code",
   "execution_count": 229,
   "metadata": {},
   "outputs": [],
   "source": [
    "#SQLite query onsolidating the data into a single table using inner joins\n",
    "data = cur.execute('SELECT records.id, records.over_50k, records.education_num, \\\n",
    "                        records.capital_gain, records.capital_loss, records.hours_week, records.age,\\\n",
    "                        workclasses.name AS workclass, \\\n",
    "                        education_levels.name AS education_level,\\\n",
    "                        marital_statuses.name AS marital_status,\\\n",
    "                        occupations.name AS occupation,\\\n",
    "                        relationships.name AS relationship,\\\n",
    "                        races.name AS race,\\\n",
    "                        sexes.name AS sex,\\\n",
    "                        countries.name AS country\\\n",
    "                        FROM records\\\n",
    "                        INNER JOIN workclasses ON workclasses.id = records.workclass_id\\\n",
    "                        INNER JOIN education_levels ON education_levels.id = records.education_level_id\\\n",
    "                        INNER JOIN marital_statuses ON marital_statuses.id = records.marital_status_id\\\n",
    "                        INNER JOIN occupations ON occupations.id = records.occupation_id\\\n",
    "                        INNER JOIN relationships ON relationships.id = records.relationship_id\\\n",
    "                        INNER JOIN races ON races.id = records.race_id\\\n",
    "                        INNER JOIN sexes ON sexes.id = records.sex_id\\\n",
    "                        INNER JOIN countries ON countries.id = records.country_id;').fetchall()"
   ]
  },
  {
   "cell_type": "code",
   "execution_count": 230,
   "metadata": {},
   "outputs": [
    {
     "data": {
      "text/html": [
       "<div>\n",
       "<style scoped>\n",
       "    .dataframe tbody tr th:only-of-type {\n",
       "        vertical-align: middle;\n",
       "    }\n",
       "\n",
       "    .dataframe tbody tr th {\n",
       "        vertical-align: top;\n",
       "    }\n",
       "\n",
       "    .dataframe thead th {\n",
       "        text-align: right;\n",
       "    }\n",
       "</style>\n",
       "<table border=\"1\" class=\"dataframe\">\n",
       "  <thead>\n",
       "    <tr style=\"text-align: right;\">\n",
       "      <th></th>\n",
       "      <th>id</th>\n",
       "      <th>over_50k</th>\n",
       "      <th>education_num</th>\n",
       "      <th>captial_gain</th>\n",
       "      <th>capital_loss</th>\n",
       "      <th>hours_week</th>\n",
       "      <th>age</th>\n",
       "      <th>workclass</th>\n",
       "      <th>education_level</th>\n",
       "      <th>marital_status</th>\n",
       "      <th>occupation</th>\n",
       "      <th>relationship</th>\n",
       "      <th>race</th>\n",
       "      <th>sex</th>\n",
       "      <th>country</th>\n",
       "    </tr>\n",
       "  </thead>\n",
       "  <tbody>\n",
       "    <tr>\n",
       "      <th>0</th>\n",
       "      <td>1</td>\n",
       "      <td>0</td>\n",
       "      <td>13</td>\n",
       "      <td>2174</td>\n",
       "      <td>0</td>\n",
       "      <td>40</td>\n",
       "      <td>39</td>\n",
       "      <td>State-gov</td>\n",
       "      <td>Bachelors</td>\n",
       "      <td>Never-married</td>\n",
       "      <td>Adm-clerical</td>\n",
       "      <td>Not-in-family</td>\n",
       "      <td>White</td>\n",
       "      <td>Male</td>\n",
       "      <td>United-States</td>\n",
       "    </tr>\n",
       "    <tr>\n",
       "      <th>1</th>\n",
       "      <td>2</td>\n",
       "      <td>0</td>\n",
       "      <td>13</td>\n",
       "      <td>0</td>\n",
       "      <td>0</td>\n",
       "      <td>13</td>\n",
       "      <td>50</td>\n",
       "      <td>Self-emp-not-inc</td>\n",
       "      <td>Bachelors</td>\n",
       "      <td>Married-civ-spouse</td>\n",
       "      <td>Exec-managerial</td>\n",
       "      <td>Husband</td>\n",
       "      <td>White</td>\n",
       "      <td>Male</td>\n",
       "      <td>United-States</td>\n",
       "    </tr>\n",
       "    <tr>\n",
       "      <th>2</th>\n",
       "      <td>3</td>\n",
       "      <td>0</td>\n",
       "      <td>9</td>\n",
       "      <td>0</td>\n",
       "      <td>0</td>\n",
       "      <td>40</td>\n",
       "      <td>38</td>\n",
       "      <td>Private</td>\n",
       "      <td>HS-grad</td>\n",
       "      <td>Divorced</td>\n",
       "      <td>Handlers-cleaners</td>\n",
       "      <td>Not-in-family</td>\n",
       "      <td>White</td>\n",
       "      <td>Male</td>\n",
       "      <td>United-States</td>\n",
       "    </tr>\n",
       "    <tr>\n",
       "      <th>3</th>\n",
       "      <td>4</td>\n",
       "      <td>0</td>\n",
       "      <td>7</td>\n",
       "      <td>0</td>\n",
       "      <td>0</td>\n",
       "      <td>40</td>\n",
       "      <td>53</td>\n",
       "      <td>Private</td>\n",
       "      <td>11th</td>\n",
       "      <td>Married-civ-spouse</td>\n",
       "      <td>Handlers-cleaners</td>\n",
       "      <td>Husband</td>\n",
       "      <td>Black</td>\n",
       "      <td>Male</td>\n",
       "      <td>United-States</td>\n",
       "    </tr>\n",
       "    <tr>\n",
       "      <th>4</th>\n",
       "      <td>5</td>\n",
       "      <td>0</td>\n",
       "      <td>13</td>\n",
       "      <td>0</td>\n",
       "      <td>0</td>\n",
       "      <td>40</td>\n",
       "      <td>28</td>\n",
       "      <td>Private</td>\n",
       "      <td>Bachelors</td>\n",
       "      <td>Married-civ-spouse</td>\n",
       "      <td>Prof-specialty</td>\n",
       "      <td>Wife</td>\n",
       "      <td>Black</td>\n",
       "      <td>Female</td>\n",
       "      <td>Cuba</td>\n",
       "    </tr>\n",
       "  </tbody>\n",
       "</table>\n",
       "</div>"
      ],
      "text/plain": [
       "   id  over_50k  education_num  captial_gain  capital_loss  hours_week  age  \\\n",
       "0   1         0             13          2174             0          40   39   \n",
       "1   2         0             13             0             0          13   50   \n",
       "2   3         0              9             0             0          40   38   \n",
       "3   4         0              7             0             0          40   53   \n",
       "4   5         0             13             0             0          40   28   \n",
       "\n",
       "          workclass education_level      marital_status         occupation  \\\n",
       "0         State-gov       Bachelors       Never-married       Adm-clerical   \n",
       "1  Self-emp-not-inc       Bachelors  Married-civ-spouse    Exec-managerial   \n",
       "2           Private         HS-grad            Divorced  Handlers-cleaners   \n",
       "3           Private            11th  Married-civ-spouse  Handlers-cleaners   \n",
       "4           Private       Bachelors  Married-civ-spouse     Prof-specialty   \n",
       "\n",
       "    relationship   race     sex        country  \n",
       "0  Not-in-family  White    Male  United-States  \n",
       "1        Husband  White    Male  United-States  \n",
       "2  Not-in-family  White    Male  United-States  \n",
       "3        Husband  Black    Male  United-States  \n",
       "4           Wife  Black  Female           Cuba  "
      ]
     },
     "execution_count": 230,
     "metadata": {},
     "output_type": "execute_result"
    }
   ],
   "source": [
    "import pandas as pd\n",
    "\n",
    "#Turn the list of the output from the query into a dataframe\n",
    "\n",
    "columnNames = [\"id\",\"over_50k\",\"education_num\",\"captial_gain\",\"capital_loss\",\n",
    "                \"hours_week\",\"age\",\"workclass\",\"education_level\",\"marital_status\",\n",
    "                 \"occupation\",\"relationship\",\"race\",\"sex\",\"country\"]\n",
    "df = pd.DataFrame(data = results, columns = columnNames)\n",
    "\n",
    "#Column Headers\n",
    "\n",
    "\n",
    "df.columns = columnNames\n",
    "\n",
    "#Saving the data to a CSV\n",
    "df.to_csv(\"data.csv\", sep = ',', index = False)\n",
    "\n",
    "#Showing the results\n",
    "df.head()"
   ]
  },
  {
   "cell_type": "code",
   "execution_count": 231,
   "metadata": {},
   "outputs": [
    {
     "data": {
      "text/plain": [
       "id                  int64\n",
       "over_50k            int64\n",
       "education_num       int64\n",
       "captial_gain        int64\n",
       "capital_loss        int64\n",
       "hours_week          int64\n",
       "age                 int64\n",
       "workclass          object\n",
       "education_level    object\n",
       "marital_status     object\n",
       "occupation         object\n",
       "relationship       object\n",
       "race               object\n",
       "sex                object\n",
       "country            object\n",
       "dtype: object"
      ]
     },
     "execution_count": 231,
     "metadata": {},
     "output_type": "execute_result"
    }
   ],
   "source": [
    "#Now I'll look at the data types\n",
    "df.dtypes"
   ]
  },
  {
   "cell_type": "markdown",
   "metadata": {},
   "source": [
    "*** The data types seem fine ***"
   ]
  },
  {
   "cell_type": "code",
   "execution_count": 239,
   "metadata": {},
   "outputs": [
    {
     "name": "stdout",
     "output_type": "stream",
     "text": [
      "Number of complete entries:  45222\n",
      "Number of incomplete entries: 3620\n"
     ]
    }
   ],
   "source": [
    "#I'm going to grab only the rows with NO missing values\n",
    "cleanDf = df.copy()\n",
    "for c in columnNames:\n",
    "    cleanDf = cleanDf[cleanDf[c].apply(lambda v: v != \"?\")]\n",
    "print(\"Number of complete entries: \", len(cleanDf))\n",
    "print(\"Number of incomplete entries:\", len(df) - len(cleanDf))"
   ]
  },
  {
   "cell_type": "code",
   "execution_count": 245,
   "metadata": {},
   "outputs": [],
   "source": [
    "#Labels\n",
    "cleanY = cleanDf[\"over_50k\"].tolist()\n",
    "\n",
    "#Factors\n",
    "cleanX = cleanDf.iloc[:, 2:]"
   ]
  }
 ],
 "metadata": {
  "kernelspec": {
   "display_name": "Python 3",
   "language": "python",
   "name": "python3"
  },
  "language_info": {
   "codemirror_mode": {
    "name": "ipython",
    "version": 3
   },
   "file_extension": ".py",
   "mimetype": "text/x-python",
   "name": "python",
   "nbconvert_exporter": "python",
   "pygments_lexer": "ipython3",
   "version": "3.7.0"
  }
 },
 "nbformat": 4,
 "nbformat_minor": 2
}
