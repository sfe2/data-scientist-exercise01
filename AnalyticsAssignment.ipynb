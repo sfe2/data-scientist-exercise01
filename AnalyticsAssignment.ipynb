{
 "cells": [
  {
   "cell_type": "markdown",
   "metadata": {},
   "source": [
    "# RTI International Analytics Exercise\n",
    "### Author: Sam Eure\n",
    "### Date: May 31, 2019"
   ]
  },
  {
   "cell_type": "code",
   "execution_count": 1,
   "metadata": {},
   "outputs": [],
   "source": [
    "import sqlite3\n",
    "conn = sqlite3.connect('exercise01.sqlite')\n",
    "cur = conn.cursor()"
   ]
  },
  {
   "cell_type": "code",
   "execution_count": 2,
   "metadata": {},
   "outputs": [],
   "source": [
    "#SQLite query onsolidating the data into a single table using inner joins\n",
    "query = cur.execute('SELECT records.id, records.over_50k, records.education_num, \\\n",
    "                        records.capital_gain, records.capital_loss, records.hours_week, records.age,\\\n",
    "                        workclasses.name AS workclass, \\\n",
    "                        education_levels.name AS education_level,\\\n",
    "                        marital_statuses.name AS marital_status,\\\n",
    "                        occupations.name AS occupation,\\\n",
    "                        relationships.name AS relationship,\\\n",
    "                        races.name AS race,\\\n",
    "                        sexes.name AS sex,\\\n",
    "                        countries.name AS country\\\n",
    "                        FROM records\\\n",
    "                        INNER JOIN workclasses ON workclasses.id = records.workclass_id\\\n",
    "                        INNER JOIN education_levels ON education_levels.id = records.education_level_id\\\n",
    "                        INNER JOIN marital_statuses ON marital_statuses.id = records.marital_status_id\\\n",
    "                        INNER JOIN occupations ON occupations.id = records.occupation_id\\\n",
    "                        INNER JOIN relationships ON relationships.id = records.relationship_id\\\n",
    "                        INNER JOIN races ON races.id = records.race_id\\\n",
    "                        INNER JOIN sexes ON sexes.id = records.sex_id\\\n",
    "                        INNER JOIN countries ON countries.id = records.country_id;').fetchall()"
   ]
  },
  {
   "cell_type": "code",
   "execution_count": 107,
   "metadata": {},
   "outputs": [
    {
     "data": {
      "text/html": [
       "<div>\n",
       "<style scoped>\n",
       "    .dataframe tbody tr th:only-of-type {\n",
       "        vertical-align: middle;\n",
       "    }\n",
       "\n",
       "    .dataframe tbody tr th {\n",
       "        vertical-align: top;\n",
       "    }\n",
       "\n",
       "    .dataframe thead th {\n",
       "        text-align: right;\n",
       "    }\n",
       "</style>\n",
       "<table border=\"1\" class=\"dataframe\">\n",
       "  <thead>\n",
       "    <tr style=\"text-align: right;\">\n",
       "      <th></th>\n",
       "      <th>id</th>\n",
       "      <th>over_50k</th>\n",
       "      <th>education_num</th>\n",
       "      <th>capital_gain</th>\n",
       "      <th>capital_loss</th>\n",
       "      <th>hours_week</th>\n",
       "      <th>age</th>\n",
       "      <th>workclass</th>\n",
       "      <th>education_level</th>\n",
       "      <th>marital_status</th>\n",
       "      <th>occupation</th>\n",
       "      <th>relationship</th>\n",
       "      <th>race</th>\n",
       "      <th>sex</th>\n",
       "      <th>country</th>\n",
       "    </tr>\n",
       "  </thead>\n",
       "  <tbody>\n",
       "    <tr>\n",
       "      <th>0</th>\n",
       "      <td>1</td>\n",
       "      <td>0</td>\n",
       "      <td>13</td>\n",
       "      <td>2174</td>\n",
       "      <td>0</td>\n",
       "      <td>40</td>\n",
       "      <td>39</td>\n",
       "      <td>State-gov</td>\n",
       "      <td>Bachelors</td>\n",
       "      <td>Never-married</td>\n",
       "      <td>Adm-clerical</td>\n",
       "      <td>Not-in-family</td>\n",
       "      <td>White</td>\n",
       "      <td>Male</td>\n",
       "      <td>United-States</td>\n",
       "    </tr>\n",
       "    <tr>\n",
       "      <th>1</th>\n",
       "      <td>2</td>\n",
       "      <td>0</td>\n",
       "      <td>13</td>\n",
       "      <td>0</td>\n",
       "      <td>0</td>\n",
       "      <td>13</td>\n",
       "      <td>50</td>\n",
       "      <td>Self-emp-not-inc</td>\n",
       "      <td>Bachelors</td>\n",
       "      <td>Married-civ-spouse</td>\n",
       "      <td>Exec-managerial</td>\n",
       "      <td>Husband</td>\n",
       "      <td>White</td>\n",
       "      <td>Male</td>\n",
       "      <td>United-States</td>\n",
       "    </tr>\n",
       "    <tr>\n",
       "      <th>2</th>\n",
       "      <td>3</td>\n",
       "      <td>0</td>\n",
       "      <td>9</td>\n",
       "      <td>0</td>\n",
       "      <td>0</td>\n",
       "      <td>40</td>\n",
       "      <td>38</td>\n",
       "      <td>Private</td>\n",
       "      <td>HS-grad</td>\n",
       "      <td>Divorced</td>\n",
       "      <td>Handlers-cleaners</td>\n",
       "      <td>Not-in-family</td>\n",
       "      <td>White</td>\n",
       "      <td>Male</td>\n",
       "      <td>United-States</td>\n",
       "    </tr>\n",
       "    <tr>\n",
       "      <th>3</th>\n",
       "      <td>4</td>\n",
       "      <td>0</td>\n",
       "      <td>7</td>\n",
       "      <td>0</td>\n",
       "      <td>0</td>\n",
       "      <td>40</td>\n",
       "      <td>53</td>\n",
       "      <td>Private</td>\n",
       "      <td>11th</td>\n",
       "      <td>Married-civ-spouse</td>\n",
       "      <td>Handlers-cleaners</td>\n",
       "      <td>Husband</td>\n",
       "      <td>Black</td>\n",
       "      <td>Male</td>\n",
       "      <td>United-States</td>\n",
       "    </tr>\n",
       "    <tr>\n",
       "      <th>4</th>\n",
       "      <td>5</td>\n",
       "      <td>0</td>\n",
       "      <td>13</td>\n",
       "      <td>0</td>\n",
       "      <td>0</td>\n",
       "      <td>40</td>\n",
       "      <td>28</td>\n",
       "      <td>Private</td>\n",
       "      <td>Bachelors</td>\n",
       "      <td>Married-civ-spouse</td>\n",
       "      <td>Prof-specialty</td>\n",
       "      <td>Wife</td>\n",
       "      <td>Black</td>\n",
       "      <td>Female</td>\n",
       "      <td>Cuba</td>\n",
       "    </tr>\n",
       "  </tbody>\n",
       "</table>\n",
       "</div>"
      ],
      "text/plain": [
       "   id  over_50k  education_num  capital_gain  capital_loss  hours_week  age  \\\n",
       "0   1         0             13          2174             0          40   39   \n",
       "1   2         0             13             0             0          13   50   \n",
       "2   3         0              9             0             0          40   38   \n",
       "3   4         0              7             0             0          40   53   \n",
       "4   5         0             13             0             0          40   28   \n",
       "\n",
       "          workclass education_level      marital_status         occupation  \\\n",
       "0         State-gov       Bachelors       Never-married       Adm-clerical   \n",
       "1  Self-emp-not-inc       Bachelors  Married-civ-spouse    Exec-managerial   \n",
       "2           Private         HS-grad            Divorced  Handlers-cleaners   \n",
       "3           Private            11th  Married-civ-spouse  Handlers-cleaners   \n",
       "4           Private       Bachelors  Married-civ-spouse     Prof-specialty   \n",
       "\n",
       "    relationship   race     sex        country  \n",
       "0  Not-in-family  White    Male  United-States  \n",
       "1        Husband  White    Male  United-States  \n",
       "2  Not-in-family  White    Male  United-States  \n",
       "3        Husband  Black    Male  United-States  \n",
       "4           Wife  Black  Female           Cuba  "
      ]
     },
     "execution_count": 107,
     "metadata": {},
     "output_type": "execute_result"
    }
   ],
   "source": [
    "import pandas as pd\n",
    "import numpy as np\n",
    "\n",
    "#Turn the list of the output from the query into a dataframe\n",
    "\n",
    "columnNames = [\"id\",\"over_50k\",\"education_num\",\"capital_gain\",\"capital_loss\",\n",
    "                \"hours_week\",\"age\",\"workclass\",\"education_level\",\"marital_status\",\n",
    "                 \"occupation\",\"relationship\",\"race\",\"sex\",\"country\"]\n",
    "df = pd.DataFrame(data = query, columns = columnNames)\n",
    "\n",
    "#Column Headers\n",
    "\n",
    "\n",
    "df.columns = columnNames\n",
    "\n",
    "#Saving the data to a CSV\n",
    "df.to_csv(\"data.csv\", sep = ',', index = False)\n",
    "\n",
    "#Showing the results\n",
    "df.head()"
   ]
  },
  {
   "cell_type": "code",
   "execution_count": 108,
   "metadata": {},
   "outputs": [
    {
     "data": {
      "text/plain": [
       "id                  int64\n",
       "over_50k            int64\n",
       "education_num       int64\n",
       "capital_gain        int64\n",
       "capital_loss        int64\n",
       "hours_week          int64\n",
       "age                 int64\n",
       "workclass          object\n",
       "education_level    object\n",
       "marital_status     object\n",
       "occupation         object\n",
       "relationship       object\n",
       "race               object\n",
       "sex                object\n",
       "country            object\n",
       "dtype: object"
      ]
     },
     "execution_count": 108,
     "metadata": {},
     "output_type": "execute_result"
    }
   ],
   "source": [
    "#Now I'll look at the data types\n",
    "df.dtypes"
   ]
  },
  {
   "cell_type": "code",
   "execution_count": 109,
   "metadata": {},
   "outputs": [
    {
     "data": {
      "text/plain": [
       "0.7607182343065395"
      ]
     },
     "execution_count": 109,
     "metadata": {},
     "output_type": "execute_result"
    }
   ],
   "source": [
    "#Fraction of workers that make over 50k\n",
    "1.0 - np.mean(df.over_50k.tolist())"
   ]
  },
  {
   "cell_type": "code",
   "execution_count": 110,
   "metadata": {},
   "outputs": [
    {
     "name": "stdout",
     "output_type": "stream",
     "text": [
      "Number of complete entries:  45222\n",
      "Number of incomplete entries: 3620\n"
     ]
    }
   ],
   "source": [
    "#I'm going to grab only the rows with NO missing values. This will be a DataFrame with complete entries.\n",
    "completeDf = df.copy()\n",
    "for c in columnNames:\n",
    "    completeDf = completeDf[completeDf[c].apply(lambda v: v != \"?\")]\n",
    "print(\"Number of complete entries: \", len(completeDf))\n",
    "print(\"Number of incomplete entries:\", len(df) - len(completeDf))"
   ]
  },
  {
   "cell_type": "code",
   "execution_count": 111,
   "metadata": {},
   "outputs": [
    {
     "data": {
      "text/plain": [
       "0.7521560302507629"
      ]
     },
     "execution_count": 111,
     "metadata": {},
     "output_type": "execute_result"
    }
   ],
   "source": [
    "#Fraction of complete workers that make over 50k\n",
    "1.0 - np.mean(completeDf.over_50k.tolist())"
   ]
  },
  {
   "cell_type": "code",
   "execution_count": 6,
   "metadata": {},
   "outputs": [],
   "source": [
    "import matplotlib.pyplot as plt\n",
    "\n",
    "columns = completeDf.columns.tolist()\n",
    "for j in range(len(columns)):\n",
    "    if columns[j] in 'id, capital_gain, capital_loss, over_50k':\n",
    "        continue;\n",
    "    means = completeDf.groupby(columns[j]).mean().over_50k.tolist()\n",
    "    names = completeDf[columns[j]].unique().tolist()\n",
    "    names.sort()\n",
    "    fig = plt.figure(figsize = (15,5))\n",
    "    plt.bar(names,means)\n",
    "    plt.title(\"Frequency of Over 50K by \"+columns[j], fontsize = 20)\n",
    "    plt.xlabel(columns[j], fontsize = 15)\n",
    "    plt.ylabel(\"Fraction Over 50k\", fontsize = 15)"
   ]
  },
  {
   "cell_type": "markdown",
   "metadata": {},
   "source": [
    "#### Although I can't see what the labels at the bottom of all the figures above state, I can tell that the frequency of workers making over 50K a year depend on the variables being plotted."
   ]
  },
  {
   "cell_type": "markdown",
   "metadata": {},
   "source": [
    "#### I'll use some machine learning techniques to create a classification model for determining if an individual earns over 50 K dollars a year based on their census level data. "
   ]
  },
  {
   "cell_type": "markdown",
   "metadata": {},
   "source": [
    "#### To handle categorical variables, I'll use one hot encoding. However, first, I'll exclude the variable 'education_level' from the analysis since this information is directly related to education_num, which I believe can be well represented by a numerical data point. "
   ]
  },
  {
   "cell_type": "code",
   "execution_count": 7,
   "metadata": {},
   "outputs": [
    {
     "data": {
      "text/html": [
       "<div>\n",
       "<style scoped>\n",
       "    .dataframe tbody tr th:only-of-type {\n",
       "        vertical-align: middle;\n",
       "    }\n",
       "\n",
       "    .dataframe tbody tr th {\n",
       "        vertical-align: top;\n",
       "    }\n",
       "\n",
       "    .dataframe thead th {\n",
       "        text-align: right;\n",
       "    }\n",
       "</style>\n",
       "<table border=\"1\" class=\"dataframe\">\n",
       "  <thead>\n",
       "    <tr style=\"text-align: right;\">\n",
       "      <th></th>\n",
       "      <th>hours_week</th>\n",
       "      <th>workclass</th>\n",
       "      <th>country</th>\n",
       "      <th>over_50k</th>\n",
       "      <th>capital_gain</th>\n",
       "      <th>capital_loss</th>\n",
       "      <th>education_num</th>\n",
       "      <th>relationship</th>\n",
       "      <th>age</th>\n",
       "      <th>marital_status</th>\n",
       "      <th>sex</th>\n",
       "      <th>race</th>\n",
       "      <th>occupation</th>\n",
       "    </tr>\n",
       "  </thead>\n",
       "  <tbody>\n",
       "    <tr>\n",
       "      <th>0</th>\n",
       "      <td>40</td>\n",
       "      <td>State-gov</td>\n",
       "      <td>United-States</td>\n",
       "      <td>0</td>\n",
       "      <td>2174</td>\n",
       "      <td>0</td>\n",
       "      <td>13</td>\n",
       "      <td>Not-in-family</td>\n",
       "      <td>39</td>\n",
       "      <td>Never-married</td>\n",
       "      <td>Male</td>\n",
       "      <td>White</td>\n",
       "      <td>Adm-clerical</td>\n",
       "    </tr>\n",
       "    <tr>\n",
       "      <th>1</th>\n",
       "      <td>13</td>\n",
       "      <td>Self-emp-not-inc</td>\n",
       "      <td>United-States</td>\n",
       "      <td>0</td>\n",
       "      <td>0</td>\n",
       "      <td>0</td>\n",
       "      <td>13</td>\n",
       "      <td>Husband</td>\n",
       "      <td>50</td>\n",
       "      <td>Married-civ-spouse</td>\n",
       "      <td>Male</td>\n",
       "      <td>White</td>\n",
       "      <td>Exec-managerial</td>\n",
       "    </tr>\n",
       "    <tr>\n",
       "      <th>2</th>\n",
       "      <td>40</td>\n",
       "      <td>Private</td>\n",
       "      <td>United-States</td>\n",
       "      <td>0</td>\n",
       "      <td>0</td>\n",
       "      <td>0</td>\n",
       "      <td>9</td>\n",
       "      <td>Not-in-family</td>\n",
       "      <td>38</td>\n",
       "      <td>Divorced</td>\n",
       "      <td>Male</td>\n",
       "      <td>White</td>\n",
       "      <td>Handlers-cleaners</td>\n",
       "    </tr>\n",
       "    <tr>\n",
       "      <th>3</th>\n",
       "      <td>40</td>\n",
       "      <td>Private</td>\n",
       "      <td>United-States</td>\n",
       "      <td>0</td>\n",
       "      <td>0</td>\n",
       "      <td>0</td>\n",
       "      <td>7</td>\n",
       "      <td>Husband</td>\n",
       "      <td>53</td>\n",
       "      <td>Married-civ-spouse</td>\n",
       "      <td>Male</td>\n",
       "      <td>Black</td>\n",
       "      <td>Handlers-cleaners</td>\n",
       "    </tr>\n",
       "    <tr>\n",
       "      <th>4</th>\n",
       "      <td>40</td>\n",
       "      <td>Private</td>\n",
       "      <td>Cuba</td>\n",
       "      <td>0</td>\n",
       "      <td>0</td>\n",
       "      <td>0</td>\n",
       "      <td>13</td>\n",
       "      <td>Wife</td>\n",
       "      <td>28</td>\n",
       "      <td>Married-civ-spouse</td>\n",
       "      <td>Female</td>\n",
       "      <td>Black</td>\n",
       "      <td>Prof-specialty</td>\n",
       "    </tr>\n",
       "  </tbody>\n",
       "</table>\n",
       "</div>"
      ],
      "text/plain": [
       "   hours_week         workclass        country  over_50k  capital_gain  \\\n",
       "0          40         State-gov  United-States         0          2174   \n",
       "1          13  Self-emp-not-inc  United-States         0             0   \n",
       "2          40           Private  United-States         0             0   \n",
       "3          40           Private  United-States         0             0   \n",
       "4          40           Private           Cuba         0             0   \n",
       "\n",
       "   capital_loss  education_num   relationship  age      marital_status  \\\n",
       "0             0             13  Not-in-family   39       Never-married   \n",
       "1             0             13        Husband   50  Married-civ-spouse   \n",
       "2             0              9  Not-in-family   38            Divorced   \n",
       "3             0              7        Husband   53  Married-civ-spouse   \n",
       "4             0             13           Wife   28  Married-civ-spouse   \n",
       "\n",
       "      sex   race         occupation  \n",
       "0    Male  White       Adm-clerical  \n",
       "1    Male  White    Exec-managerial  \n",
       "2    Male  White  Handlers-cleaners  \n",
       "3    Male  Black  Handlers-cleaners  \n",
       "4  Female  Black     Prof-specialty  "
      ]
     },
     "execution_count": 7,
     "metadata": {},
     "output_type": "execute_result"
    }
   ],
   "source": [
    "colIndex = list(set(columns) - {'id', 'education_level'})\n",
    "cleanDf = completeDf[colIndex]\n",
    "cleanDf.head()"
   ]
  },
  {
   "cell_type": "markdown",
   "metadata": {},
   "source": [
    "#### One Hot Encoding"
   ]
  },
  {
   "cell_type": "code",
   "execution_count": 8,
   "metadata": {},
   "outputs": [
    {
     "name": "stdout",
     "output_type": "stream",
     "text": [
      "Now I Have  88  features instead of  13 features. \n",
      "\n",
      " hotCleanDf.head()\n"
     ]
    },
    {
     "data": {
      "text/html": [
       "<div>\n",
       "<style scoped>\n",
       "    .dataframe tbody tr th:only-of-type {\n",
       "        vertical-align: middle;\n",
       "    }\n",
       "\n",
       "    .dataframe tbody tr th {\n",
       "        vertical-align: top;\n",
       "    }\n",
       "\n",
       "    .dataframe thead th {\n",
       "        text-align: right;\n",
       "    }\n",
       "</style>\n",
       "<table border=\"1\" class=\"dataframe\">\n",
       "  <thead>\n",
       "    <tr style=\"text-align: right;\">\n",
       "      <th></th>\n",
       "      <th>hours_week</th>\n",
       "      <th>over_50k</th>\n",
       "      <th>capital_gain</th>\n",
       "      <th>capital_loss</th>\n",
       "      <th>education_num</th>\n",
       "      <th>age</th>\n",
       "      <th>workclass_Federal-gov</th>\n",
       "      <th>workclass_Local-gov</th>\n",
       "      <th>workclass_Private</th>\n",
       "      <th>workclass_Self-emp-inc</th>\n",
       "      <th>...</th>\n",
       "      <th>occupation_Farming-fishing</th>\n",
       "      <th>occupation_Handlers-cleaners</th>\n",
       "      <th>occupation_Machine-op-inspct</th>\n",
       "      <th>occupation_Other-service</th>\n",
       "      <th>occupation_Priv-house-serv</th>\n",
       "      <th>occupation_Prof-specialty</th>\n",
       "      <th>occupation_Protective-serv</th>\n",
       "      <th>occupation_Sales</th>\n",
       "      <th>occupation_Tech-support</th>\n",
       "      <th>occupation_Transport-moving</th>\n",
       "    </tr>\n",
       "  </thead>\n",
       "  <tbody>\n",
       "    <tr>\n",
       "      <th>0</th>\n",
       "      <td>40</td>\n",
       "      <td>0</td>\n",
       "      <td>2174</td>\n",
       "      <td>0</td>\n",
       "      <td>13</td>\n",
       "      <td>39</td>\n",
       "      <td>0</td>\n",
       "      <td>0</td>\n",
       "      <td>0</td>\n",
       "      <td>0</td>\n",
       "      <td>...</td>\n",
       "      <td>0</td>\n",
       "      <td>0</td>\n",
       "      <td>0</td>\n",
       "      <td>0</td>\n",
       "      <td>0</td>\n",
       "      <td>0</td>\n",
       "      <td>0</td>\n",
       "      <td>0</td>\n",
       "      <td>0</td>\n",
       "      <td>0</td>\n",
       "    </tr>\n",
       "    <tr>\n",
       "      <th>1</th>\n",
       "      <td>13</td>\n",
       "      <td>0</td>\n",
       "      <td>0</td>\n",
       "      <td>0</td>\n",
       "      <td>13</td>\n",
       "      <td>50</td>\n",
       "      <td>0</td>\n",
       "      <td>0</td>\n",
       "      <td>0</td>\n",
       "      <td>0</td>\n",
       "      <td>...</td>\n",
       "      <td>0</td>\n",
       "      <td>0</td>\n",
       "      <td>0</td>\n",
       "      <td>0</td>\n",
       "      <td>0</td>\n",
       "      <td>0</td>\n",
       "      <td>0</td>\n",
       "      <td>0</td>\n",
       "      <td>0</td>\n",
       "      <td>0</td>\n",
       "    </tr>\n",
       "    <tr>\n",
       "      <th>2</th>\n",
       "      <td>40</td>\n",
       "      <td>0</td>\n",
       "      <td>0</td>\n",
       "      <td>0</td>\n",
       "      <td>9</td>\n",
       "      <td>38</td>\n",
       "      <td>0</td>\n",
       "      <td>0</td>\n",
       "      <td>1</td>\n",
       "      <td>0</td>\n",
       "      <td>...</td>\n",
       "      <td>0</td>\n",
       "      <td>1</td>\n",
       "      <td>0</td>\n",
       "      <td>0</td>\n",
       "      <td>0</td>\n",
       "      <td>0</td>\n",
       "      <td>0</td>\n",
       "      <td>0</td>\n",
       "      <td>0</td>\n",
       "      <td>0</td>\n",
       "    </tr>\n",
       "    <tr>\n",
       "      <th>3</th>\n",
       "      <td>40</td>\n",
       "      <td>0</td>\n",
       "      <td>0</td>\n",
       "      <td>0</td>\n",
       "      <td>7</td>\n",
       "      <td>53</td>\n",
       "      <td>0</td>\n",
       "      <td>0</td>\n",
       "      <td>1</td>\n",
       "      <td>0</td>\n",
       "      <td>...</td>\n",
       "      <td>0</td>\n",
       "      <td>1</td>\n",
       "      <td>0</td>\n",
       "      <td>0</td>\n",
       "      <td>0</td>\n",
       "      <td>0</td>\n",
       "      <td>0</td>\n",
       "      <td>0</td>\n",
       "      <td>0</td>\n",
       "      <td>0</td>\n",
       "    </tr>\n",
       "    <tr>\n",
       "      <th>4</th>\n",
       "      <td>40</td>\n",
       "      <td>0</td>\n",
       "      <td>0</td>\n",
       "      <td>0</td>\n",
       "      <td>13</td>\n",
       "      <td>28</td>\n",
       "      <td>0</td>\n",
       "      <td>0</td>\n",
       "      <td>1</td>\n",
       "      <td>0</td>\n",
       "      <td>...</td>\n",
       "      <td>0</td>\n",
       "      <td>0</td>\n",
       "      <td>0</td>\n",
       "      <td>0</td>\n",
       "      <td>0</td>\n",
       "      <td>1</td>\n",
       "      <td>0</td>\n",
       "      <td>0</td>\n",
       "      <td>0</td>\n",
       "      <td>0</td>\n",
       "    </tr>\n",
       "  </tbody>\n",
       "</table>\n",
       "<p>5 rows × 88 columns</p>\n",
       "</div>"
      ],
      "text/plain": [
       "   hours_week  over_50k  capital_gain  capital_loss  education_num  age  \\\n",
       "0          40         0          2174             0             13   39   \n",
       "1          13         0             0             0             13   50   \n",
       "2          40         0             0             0              9   38   \n",
       "3          40         0             0             0              7   53   \n",
       "4          40         0             0             0             13   28   \n",
       "\n",
       "   workclass_Federal-gov  workclass_Local-gov  workclass_Private  \\\n",
       "0                      0                    0                  0   \n",
       "1                      0                    0                  0   \n",
       "2                      0                    0                  1   \n",
       "3                      0                    0                  1   \n",
       "4                      0                    0                  1   \n",
       "\n",
       "   workclass_Self-emp-inc             ...               \\\n",
       "0                       0             ...                \n",
       "1                       0             ...                \n",
       "2                       0             ...                \n",
       "3                       0             ...                \n",
       "4                       0             ...                \n",
       "\n",
       "   occupation_Farming-fishing  occupation_Handlers-cleaners  \\\n",
       "0                           0                             0   \n",
       "1                           0                             0   \n",
       "2                           0                             1   \n",
       "3                           0                             1   \n",
       "4                           0                             0   \n",
       "\n",
       "   occupation_Machine-op-inspct  occupation_Other-service  \\\n",
       "0                             0                         0   \n",
       "1                             0                         0   \n",
       "2                             0                         0   \n",
       "3                             0                         0   \n",
       "4                             0                         0   \n",
       "\n",
       "   occupation_Priv-house-serv  occupation_Prof-specialty  \\\n",
       "0                           0                          0   \n",
       "1                           0                          0   \n",
       "2                           0                          0   \n",
       "3                           0                          0   \n",
       "4                           0                          1   \n",
       "\n",
       "   occupation_Protective-serv  occupation_Sales  occupation_Tech-support  \\\n",
       "0                           0                 0                        0   \n",
       "1                           0                 0                        0   \n",
       "2                           0                 0                        0   \n",
       "3                           0                 0                        0   \n",
       "4                           0                 0                        0   \n",
       "\n",
       "   occupation_Transport-moving  \n",
       "0                            0  \n",
       "1                            0  \n",
       "2                            0  \n",
       "3                            0  \n",
       "4                            0  \n",
       "\n",
       "[5 rows x 88 columns]"
      ]
     },
     "execution_count": 8,
     "metadata": {},
     "output_type": "execute_result"
    }
   ],
   "source": [
    "hotCleanDf = pd.get_dummies(cleanDf)\n",
    "print(\"Now I Have \",len(hotCleanDf.columns), \" features instead of \", len(cleanDf.columns), \"features. \\n\\n hotCleanDf.head()\")\n",
    "hotCleanDf.head()"
   ]
  },
  {
   "cell_type": "markdown",
   "metadata": {},
   "source": [
    "#### Next, I'll divide my data set into a train, validation, and test data sets. I'll used the cleanDf (which is contains the data points with complete entries) as my data set."
   ]
  },
  {
   "cell_type": "code",
   "execution_count": 146,
   "metadata": {},
   "outputs": [
    {
     "name": "stdout",
     "output_type": "stream",
     "text": [
      "Size of training data:   27133\n",
      "Size of validation data: 9045\n",
      "Size of testing data:    9044\n"
     ]
    }
   ],
   "source": [
    "import random\n",
    "\n",
    "random.seed(1)\n",
    "indices = list(range(len(cleanDf)))\n",
    "random.shuffle(indices)\n",
    "hotCleanDf = hotCleanDf.iloc[indices,:] #shuffling the data points\n",
    "\n",
    "predictors = hotCleanDf.columns.tolist().copy()\n",
    "predictors.remove('over_50k')\n",
    "\n",
    "#Splitting the data set into training, validation, and testing data sets. \n",
    "sixty = round(0.6*len(hotCleanDf)) #The number of data points comprising roughly eighty % of the data. \n",
    "eighty = round(0.8*len(hotCleanDf))\n",
    "trainX, trainY = hotCleanDf[predictors].iloc[:sixty,:],           hotCleanDf['over_50k'].iloc[:sixty]\n",
    "valX,   valY   = hotCleanDf[predictors].iloc[sixty:eighty,:], hotCleanDf['over_50k'].iloc[sixty:eighty]\n",
    "testX,  testY  = hotCleanDf[predictors].iloc[eighty:,:],          hotCleanDf['over_50k'].iloc[eighty:]\n",
    "\n",
    "print(\"Size of training data:  \", len(trainX))\n",
    "print(\"Size of validation data:\", len(valX))\n",
    "print(\"Size of testing data:   \", len(testX))"
   ]
  },
  {
   "cell_type": "markdown",
   "metadata": {},
   "source": [
    "### Random Forest Classifier"
   ]
  },
  {
   "cell_type": "code",
   "execution_count": 37,
   "metadata": {},
   "outputs": [
    {
     "name": "stdout",
     "output_type": "stream",
     "text": [
      "Training took 0 seconds using 2 trees\n",
      "Training took 0 seconds using 4 trees\n",
      "Training took 0 seconds using 8 trees\n",
      "Training took 1 seconds using 16 trees\n",
      "Training took 1 seconds using 32 trees\n",
      "Training took 2 seconds using 64 trees\n",
      "Training took 4 seconds using 128 trees\n",
      "Training took 8 seconds using 256 trees\n",
      "Training took 19 seconds using 512 trees\n",
      "Training took 35 seconds using 1024 trees\n",
      "\n",
      " Top Validation Acc: 0.846 using 256 trees.\n"
     ]
    },
    {
     "data": {
      "image/png": "[encoded data removed]",
      "text/plain": [
       "<Figure size 432x288 with 1 Axes>"
      ]
     },
     "metadata": {
      "needs_background": "light"
     },
     "output_type": "display_data"
    }
   ],
   "source": [
    "import time\n",
    "from sklearn.ensemble import RandomForestClassifier\n",
    "import numpy as np\n",
    "\n",
    "trees = list(pow(2,np.linspace(1,10,10, dtype = int)))\n",
    "\n",
    "trainAcc = []\n",
    "valAcc   = []\n",
    "\n",
    "for decision_trees_used in trees:\n",
    "    start = time.time()\n",
    "    rfc = RandomForestClassifier(n_estimators = decision_trees_used,\n",
    "                                 n_jobs = -1)\n",
    "    rfc.fit(trainX, trainY)\n",
    "    finish = time.time()\n",
    "    print(\"Training took\",round(finish-start),'seconds using', decision_trees_used, 'trees')\n",
    "    trainAcc.append(round(rfc.score(trainX, trainY),3))\n",
    "    valAcc.append(round(rfc.score(valX, valY),3))\n",
    "    \n",
    "plt.ylim([0.80,0.98])\n",
    "plt.scatter(list(range(len(trainAcc))), trainAcc, color = 'blue', label = 'training')\n",
    "plt.scatter(list(range(len(valAcc))), valAcc, color = 'red', label = 'validation')\n",
    "plt.ylabel(\"Accuracy\")\n",
    "plt.xlabel(\"Trees Log2\")\n",
    "plt.title(\"Training Progression for Random Forest\")\n",
    "plt.legend(loc = 'lower right')\n",
    "print(\"\\n Top Validation Acc:\", round(max(valAcc),3), 'using', trees[np.argmax(valAcc)], 'trees.')"
   ]
  },
  {
   "cell_type": "markdown",
   "metadata": {},
   "source": [
    "### Logistic Regression"
   ]
  },
  {
   "cell_type": "markdown",
   "metadata": {},
   "source": [
    "#### Vanilla"
   ]
  },
  {
   "cell_type": "code",
   "execution_count": 147,
   "metadata": {},
   "outputs": [
    {
     "name": "stdout",
     "output_type": "stream",
     "text": [
      "Training Acc:   0.85\n",
      "Validation Acc: 0.845\n"
     ]
    }
   ],
   "source": [
    "from sklearn.linear_model import LogisticRegression\n",
    "lr = LogisticRegression(solver = 'liblinear')\n",
    "lr.fit(trainX, trainY)\n",
    "print(\"Training Acc:  \",round(lr.score(trainX, trainY),3))\n",
    "print(\"Validation Acc:\",round(lr.score(valX, valY),3))"
   ]
  },
  {
   "cell_type": "markdown",
   "metadata": {},
   "source": [
    "#### LASSO"
   ]
  },
  {
   "cell_type": "code",
   "execution_count": 156,
   "metadata": {},
   "outputs": [
    {
     "name": "stdout",
     "output_type": "stream",
     "text": [
      "Max validation Acc: 0.8453 using regularization strength of 0.2\n"
     ]
    },
    {
     "data": {
      "image/png": "[encoded data removed]",
      "text/plain": [
       "<Figure size 432x288 with 1 Axes>"
      ]
     },
     "metadata": {
      "needs_background": "light"
     },
     "output_type": "display_data"
    }
   ],
   "source": [
    "trainAcc = []\n",
    "valAcc = []\n",
    "Cs = [0.01, 0.05, 0.1, 0.15, 0.2, 0.3, 0.5, 0.6, 0.7, 0.8, 0.9, 1.0, 1.5]  #Inverse of regression strength\n",
    "for c in Cs:\n",
    "    lr = LogisticRegression(penalty = 'l1', C = c, solver = 'liblinear')\n",
    "    lr.fit(trainX, trainY)\n",
    "    trainAcc.append(round(lr.score(trainX, trainY), 4))\n",
    "    valAcc.append(  round(lr.score(valX,  valY),  4))\n",
    "plt.ylim([0.83,.855])\n",
    "plt.scatter(list(range(len(trainAcc))), trainAcc, color = 'blue', label = 'training',   s = 60)\n",
    "plt.scatter(list(range(len(valAcc))),   valAcc,   color = 'red',  label = 'validation', s = 40)\n",
    "plt.ylabel(\"Accuracy\")\n",
    "plt.title(\"Training Progression for Logistic LASSO\")\n",
    "plt.legend(loc = 'lower right')\n",
    "print(\"Max validation Acc:\", max(valAcc), \"using regularization strength of\", Cs[np.argmax(valAcc)])"
   ]
  },
  {
   "cell_type": "markdown",
   "metadata": {},
   "source": [
    "#### Ridge"
   ]
  },
  {
   "cell_type": "code",
   "execution_count": 158,
   "metadata": {},
   "outputs": [
    {
     "name": "stdout",
     "output_type": "stream",
     "text": [
      "Max validation Acc: 0.8449 using regularization strength of 0.15\n"
     ]
    },
    {
     "data": {
      "image/png": "[encoded data removed]",
      "text/plain": [
       "<Figure size 432x288 with 1 Axes>"
      ]
     },
     "metadata": {
      "needs_background": "light"
     },
     "output_type": "display_data"
    }
   ],
   "source": [
    "trainAcc = []\n",
    "valAcc = []\n",
    "Cs = [0.01, 0.05, 0.1, 0.15, 0.2, 0.3, 0.5]  #Inverse of regression strength\n",
    "for c in Cs:\n",
    "    lr = LogisticRegression(penalty = 'l2', C = c, solver = 'liblinear')\n",
    "    lr.fit(trainX, trainY)\n",
    "    trainAcc.append(round(lr.score(trainX, trainY),4))\n",
    "    valAcc.append(round(lr.score(valX, valY),4))\n",
    "plt.ylim([0.80,0.855])\n",
    "plt.scatter(list(range(len(trainAcc))), trainAcc, color = 'blue', label = 'training')\n",
    "plt.scatter(list(range(len(valAcc))),   valAcc,   color = 'red',  label = 'validation')\n",
    "plt.ylabel(\"Accuracy\")\n",
    "plt.xlabel(\"Trees Log2\")\n",
    "plt.title(\"Training Progression for Logistic Ridge\")\n",
    "plt.legend(loc = 'lower right')\n",
    "print(\"Max validation Acc:\", max(valAcc), \"using regularization strength of\", Cs[np.argmax(valAcc)])"
   ]
  },
  {
   "cell_type": "code",
   "execution_count": 119,
   "metadata": {},
   "outputs": [
    {
     "name": "stdout",
     "output_type": "stream",
     "text": [
      "Epoch 1/10\n",
      "36178/36178 [==============================] - 9s 261us/step - loss: 1.5670 - acc: 0.7679\n",
      "Epoch 2/10\n",
      "36178/36178 [==============================] - 7s 180us/step - loss: 1.5308 - acc: 0.7847\n",
      "Epoch 3/10\n",
      "36178/36178 [==============================] - 7s 183us/step - loss: 1.5235 - acc: 0.7874\n",
      "Epoch 4/10\n",
      "36178/36178 [==============================] - 7s 181us/step - loss: 1.5223 - acc: 0.7910\n",
      "Epoch 5/10\n",
      "36178/36178 [==============================] - 7s 188us/step - loss: 1.5200 - acc: 0.7905\n",
      "Epoch 6/10\n",
      "36178/36178 [==============================] - 7s 183us/step - loss: 1.5155 - acc: 0.7914\n",
      "Epoch 7/10\n",
      "36178/36178 [==============================] - 7s 185us/step - loss: 1.5167 - acc: 0.7927\n",
      "Epoch 8/10\n",
      "36178/36178 [==============================] - 7s 200us/step - loss: 1.5161 - acc: 0.7927\n",
      "Epoch 9/10\n",
      "36178/36178 [==============================] - 7s 183us/step - loss: 1.5146 - acc: 0.7937\n",
      "Epoch 10/10\n",
      "36178/36178 [==============================] - 7s 199us/step - loss: 1.5133 - acc: 0.7934\n"
     ]
    },
    {
     "data": {
      "text/plain": [
       "<tensorflow.python.keras.callbacks.History at 0x1359add30>"
      ]
     },
     "execution_count": 119,
     "metadata": {},
     "output_type": "execute_result"
    }
   ],
   "source": [
    "import tensorflow as tf\n",
    "import tensorflow.keras as keras\n",
    "\n",
    "nn = keras.Sequential()\n",
    "depth = 10\n",
    "for _ in range(depth):\n",
    "    nn.add(keras.layers.Dense(128, activation=tf.nn.relu))\n",
    "    \n",
    "nn.add(keras.layers.Dense(2, activation=tf.nn.softmax))\n",
    "\n",
    "nn.compile(optimizer='adam', \n",
    "              loss='sparse_categorical_crossentropy',\n",
    "              metrics=['accuracy'])\n",
    "\n",
    "nn.fit(np.array(trainX), np.array(trainY), epochs = 10)"
   ]
  },
  {
   "cell_type": "code",
   "execution_count": null,
   "metadata": {},
   "outputs": [],
   "source": []
  }
 ],
 "metadata": {
  "kernelspec": {
   "display_name": "py_36_env",
   "language": "python",
   "name": "py_36_env"
  },
  "language_info": {
   "codemirror_mode": {
    "name": "ipython",
    "version": 3
   },
   "file_extension": ".py",
   "mimetype": "text/x-python",
   "name": "python",
   "nbconvert_exporter": "python",
   "pygments_lexer": "ipython3",
   "version": "3.6.7"
  }
 },
 "nbformat": 4,
 "nbformat_minor": 2
}
